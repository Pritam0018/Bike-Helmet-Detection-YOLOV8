{
 "cells": [
  {
   "cell_type": "code",
   "execution_count": 2,
   "metadata": {},
   "outputs": [],
   "source": [
    "import shutil\n",
    "import zipfile\n",
    "import cv2\n",
    "import os\n",
    "import matplotlib.pyplot as plt\n",
    "import xml.etree.ElementTree as ET\n",
    "import random\n",
    "import numpy as np\n",
    "from ultralytics import YOLO\n",
    "from PIL import Image"
   ]
  },
  {
   "cell_type": "code",
   "execution_count": 3,
   "metadata": {},
   "outputs": [],
   "source": [
    "\n",
    "# Input\n",
    "input_dir = 'D:\\yolo\\yolov8_helmet_detection_main\\yolov8_helmet_detection_main\\Data'\n",
    "images_dir = os.path.join(input_dir, \"images\")\n",
    "annotations_dir = os.path.join(input_dir, \"annotations\")\n",
    "\n",
    "# Output\n",
    "working_dir = 'D:\\\\yolo\\yolov8_helmet_detection_main\\\\yolov8_helmet_detection_main\\\\working\\\\'\n",
    "labels_dir = os.path.join(working_dir, \"labels\")\n",
    "train_img_dir = os.path.join(working_dir, \"train\", \"images\")\n",
    "train_labels_dir = os.path.join(working_dir, \"train\", \"labels\")\n",
    "val_img_dir = os.path.join(working_dir, \"val\", \"images\")\n",
    "val_labels_dir = os.path.join(working_dir, \"val\", \"labels\")\n",
    "models_dir = os.path.join(working_dir, \"models\")\n",
    "predict_dir = os.path.join(working_dir, \"predict\")"
   ]
  },
  {
   "cell_type": "code",
   "execution_count": 4,
   "metadata": {},
   "outputs": [],
   "source": [
    "def parse_xml(xml_file):\n",
    "    '''\n",
    "    Parse the XML file and extract image information and bounding boxes\n",
    "\n",
    "    Args:\n",
    "        xml_file: str: path to the XML file\n",
    "\n",
    "    Return:\n",
    "        image_name: str: name of the image file\n",
    "        image_shape: tuple: shape of the image\n",
    "        labels_and_bboxes: list: list of tuples containing labels and bounding boxes\n",
    "    '''\n",
    "\n",
    "    # Parse the XML file\n",
    "    tree = ET.parse(xml_file)\n",
    "    root = tree.getroot()\n",
    "\n",
    "    # Extract image information\n",
    "    image_name = root.find('filename').text\n",
    "    width = int(root.find('size/width').text)\n",
    "    height = int(root.find('size/height').text)\n",
    "    depth = int(root.find('size/depth').text)\n",
    "    image_shape = width, height, depth\n",
    "\n",
    "    labels_and_bboxes = []\n",
    "\n",
    "    # Loop through each object in the XML\n",
    "    for obj in root.findall('object'):\n",
    "        # Extract label and bounding box coordinates for each object\n",
    "        label = obj.find('name').text\n",
    "        xmin = int(obj.find('bndbox/xmin').text)\n",
    "        ymin = int(obj.find('bndbox/ymin').text)\n",
    "        xmax = int(obj.find('bndbox/xmax').text)\n",
    "        ymax = int(obj.find('bndbox/ymax').text)\n",
    "\n",
    "        # Append label and bounding box to the list\n",
    "        labels_and_bboxes.append((label, (xmin, ymin, xmax, ymax)))\n",
    "\n",
    "    return image_name, image_shape, labels_and_bboxes\n"
   ]
  },
  {
   "cell_type": "code",
   "execution_count": 5,
   "metadata": {},
   "outputs": [],
   "source": [
    "def draw_bounding_boxes(img_file, labels_and_bboxes):\n",
    "    '''\n",
    "    Draw bounding boxes on the image\n",
    "\n",
    "    Args:\n",
    "        img_file: str: path to the image file\n",
    "        labels_and_bboxes: list: list of tuples containing labels and bounding boxes\n",
    "    '''\n",
    "    # Load the image\n",
    "    image = cv2.cvtColor(cv2.imread(img_file), cv2.COLOR_BGR2RGB)\n",
    "\n",
    "    # Draw bounding boxes on the image\n",
    "    for label, bbox in labels_and_bboxes:\n",
    "        xmin, ymin, xmax, ymax = bbox\n",
    "        rgb_color = (0, 255, 0) if label == 'With Helmet' else (255, 0, 0)\n",
    "\n",
    "        cv2.rectangle(image, (xmin, ymin), (xmax, ymax), rgb_color, 2)\n",
    "        cv2.putText(image, label, (xmin, ymin - 5), cv2.FONT_HERSHEY_SIMPLEX, 0.35, rgb_color, 1)\n",
    "\n",
    "    # Display the image with bounding boxes\n",
    "    plt.axis(False)\n",
    "    plt.title(os.path.split(img_file)[-1], y=-0.1)\n",
    "    plt.imshow(image)\n"
   ]
  },
  {
   "cell_type": "code",
   "execution_count": 6,
   "metadata": {},
   "outputs": [],
   "source": [
    "def get_random_img_xml():\n",
    "    '''\n",
    "    Get a random image and its corresponding XML file\n",
    "\n",
    "    Return:\n",
    "        img_file: str: path to the image file\n",
    "        xml_file: str: path to the XML file\n",
    "    '''\n",
    "\n",
    "    # pick a random image from the dataset\n",
    "    img_name = random.choice(os.listdir(images_dir))\n",
    "    img_file = os.path.join(images_dir, img_name)\n",
    "    xml_file = os.path.join(annotations_dir, img_name[:-4]+'.xml')\n",
    "\n",
    "    return img_file, xml_file"
   ]
  },
  {
   "cell_type": "code",
   "execution_count": 7,
   "metadata": {},
   "outputs": [],
   "source": [
    "img_file, xml_file = get_random_img_xml()\n",
    "image_name, image_shape, labels_and_bboxes = parse_xml(xml_file)\n",
    "# draw_bounding_boxes(img_file, labels_and_bboxes)"
   ]
  },
  {
   "cell_type": "code",
   "execution_count": 8,
   "metadata": {},
   "outputs": [],
   "source": [
    "def create_labels(xml_dir, labels_dir):\n",
    "    '''\n",
    "    Create labels for each image in the dataset. Ignore image if invalid bboxes (coordinates out of image shape)\n",
    "\n",
    "    Args:\n",
    "        xml_dir: str: path to the directory containing the annotation xml files\n",
    "        labels_dir: str: path to the directory where the labels will be saved\n",
    "    '''\n",
    "\n",
    "    # browse through annotation xml files and extract the class and bounding box coordinates\n",
    "    os.makedirs(labels_dir, exist_ok=True)\n",
    "\n",
    "    annotations = [file for file in os.listdir(xml_dir) if file.lower().endswith('.xml')]\n",
    "\n",
    "    count = 0\n",
    "    ignored = 0\n",
    "\n",
    "    for xml_file in annotations:\n",
    "\n",
    "        image_name, image_shape, labels_and_bboxes = parse_xml(os.path.join(xml_dir, xml_file))\n",
    "\n",
    "        # save label and bbox to a text file with same name than image file\n",
    "        txt_file = os.path.join(labels_dir, xml_file.replace('.xml', '.txt'))\n",
    "\n",
    "        file_corrupt = False\n",
    "\n",
    "        with open(txt_file, 'w') as f:\n",
    "\n",
    "            for label, bbox in labels_and_bboxes:\n",
    "\n",
    "                # get label\n",
    "                label = 1 if label == 'With Helmet' else 0\n",
    "\n",
    "                # compute bounding box center, width and height from bbox coordinates\n",
    "                x_center = (bbox[0] + bbox[2]) / 2\n",
    "                y_center = (bbox[1] + bbox[3]) / 2\n",
    "                width = bbox[2] - bbox[0]\n",
    "                height = bbox[3] - bbox[1]\n",
    "\n",
    "                # normalize all values between 0 and 1\n",
    "                x_center /= image_shape[0]\n",
    "                y_center /= image_shape[1]\n",
    "                width /= image_shape[0]\n",
    "                height /= image_shape[1]\n",
    "\n",
    "                # check if values are within the range 0 and 1\n",
    "                if x_center > 1 or y_center > 1 or width > 1 or height > 1:\n",
    "                    file_corrupt = True\n",
    "                    break\n",
    "\n",
    "                f.write(f\"{label} {x_center} {y_center} {width} {height}\\n\")\n",
    "\n",
    "        # delete corrupted files (values don't make any sense)\n",
    "        if file_corrupt:\n",
    "            ignored += 1\n",
    "            f.close()\n",
    "            os.remove(txt_file)\n",
    "            continue\n",
    "\n",
    "        print(f\"\\rImage: {image_name}     \", end='', flush=True)\n",
    "        count += 1\n",
    "\n",
    "\n",
    "    print(f\"\\n>> {count} labels created | {ignored} images ignored\")\n"
   ]
  },
  {
   "cell_type": "code",
   "execution_count": 9,
   "metadata": {},
   "outputs": [
    {
     "name": "stdout",
     "output_type": "stream",
     "text": [
      "Image: BikesHelmets99.png      \n",
      ">> 749 labels created | 15 images ignored\n"
     ]
    }
   ],
   "source": [
    "create_labels(annotations_dir, labels_dir)"
   ]
  },
  {
   "cell_type": "code",
   "execution_count": 10,
   "metadata": {},
   "outputs": [],
   "source": [
    "def create_train_val_split():\n",
    "    '''\n",
    "    Create a train and val split of the images/labels.\n",
    "    '''\n",
    "\n",
    "    # make sure target dirs exist\n",
    "    for dir in [train_img_dir, val_img_dir, train_labels_dir, val_labels_dir]:\n",
    "        os.makedirs(dir, exist_ok=True)\n",
    "\n",
    "    # copy images randomly to train and val folders using 80/20 split\n",
    "    images = [img[:-4] for img in os.listdir(images_dir)]\n",
    "    random.shuffle(images)\n",
    "    split = int(0.8 * len(images))\n",
    "\n",
    "    count_total = len(images)\n",
    "    count_train = 0\n",
    "    count_val = 0\n",
    "    count_ignored = 0\n",
    "\n",
    "    for i in range(len(images)):\n",
    "\n",
    "        # check if label exists (some images are corrupted and don't have a label file)\n",
    "        if not os.path.exists(os.path.join(labels_dir, f\"{images[i]}.txt\")):\n",
    "            count_ignored += 1\n",
    "            count_total -= 1\n",
    "            continue\n",
    "\n",
    "        if i < split:\n",
    "            shutil.copy(os.path.join(images_dir, f\"{images[i]}.png\"), train_img_dir)\n",
    "            shutil.copy(os.path.join(labels_dir, f\"{images[i]}.txt\"), train_labels_dir)\n",
    "            count_train += 1\n",
    "        else:\n",
    "            shutil.copy(os.path.join(images_dir, f\"{images[i]}.png\"), val_img_dir)\n",
    "            shutil.copy(os.path.join(labels_dir, f\"{images[i]}.txt\"), val_labels_dir)\n",
    "            count_val += 1\n",
    "\n",
    "        count_total -= 1\n",
    "\n",
    "        print(f\"\\rImages: {count_total} >> Train: {count_train} | Val: {count_val} | Ignored: {count_ignored}     \", end='', flush=True)\n"
   ]
  },
  {
   "cell_type": "code",
   "execution_count": 11,
   "metadata": {},
   "outputs": [
    {
     "name": "stdout",
     "output_type": "stream",
     "text": [
      "Images: 0 >> Train: 599 | Val: 150 | Ignored: 15      "
     ]
    }
   ],
   "source": [
    "create_train_val_split()"
   ]
  },
  {
   "cell_type": "code",
   "execution_count": 12,
   "metadata": {},
   "outputs": [
    {
     "name": "stdout",
     "output_type": "stream",
     "text": [
      "Config file written successfully at location D:\\yolo\\yolov8_helmet_detection_main\\yolov8_helmet_detection_main\\working\\config.yaml\n"
     ]
    }
   ],
   "source": [
    "config_file_path = os.path.join(working_dir, 'config.yaml')\n",
    "\n",
    "config_file_contents = f'''path: {working_dir}  # root dir\n",
    "train: train/images  # train dir\n",
    "val: val/images  # val dir\n",
    "\n",
    "# Classes\n",
    "names:\n",
    "  0: without helmet\n",
    "  1: with helmet\n",
    "'''\n",
    "\n",
    "with open(config_file_path, 'w') as f:\n",
    "    f.write(config_file_contents)\n",
    "\n",
    "print(f\"Config file written successfully at location {config_file_path}\")"
   ]
  },
  {
   "cell_type": "code",
   "execution_count": null,
   "metadata": {},
   "outputs": [],
   "source": []
  }
 ],
 "metadata": {
  "kernelspec": {
   "display_name": "Python 3",
   "language": "python",
   "name": "python3"
  },
  "language_info": {
   "codemirror_mode": {
    "name": "ipython",
    "version": 3
   },
   "file_extension": ".py",
   "mimetype": "text/x-python",
   "name": "python",
   "nbconvert_exporter": "python",
   "pygments_lexer": "ipython3",
   "version": "3.8.10"
  }
 },
 "nbformat": 4,
 "nbformat_minor": 2
}
